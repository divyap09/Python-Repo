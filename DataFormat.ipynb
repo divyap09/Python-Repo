print(format(sum(v)/len(v), ".2f") )
